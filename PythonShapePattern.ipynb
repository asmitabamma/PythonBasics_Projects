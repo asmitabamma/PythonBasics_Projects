{
  "nbformat": 4,
  "nbformat_minor": 0,
  "metadata": {
    "colab": {
      "provenance": [],
      "collapsed_sections": []
    },
    "kernelspec": {
      "name": "python3",
      "display_name": "Python 3"
    },
    "language_info": {
      "name": "python"
    }
  },
  "cells": [
    {
      "cell_type": "markdown",
      "source": [
        "1.\tWrite a program to print following pattern.\n",
        "\n",
        "\n",
        "\n"
      ],
      "metadata": {
        "id": "8gc5XcAdOnas"
      }
    },
    {
      "cell_type": "code",
      "execution_count": null,
      "metadata": {
        "colab": {
          "base_uri": "https://localhost:8080/"
        },
        "id": "IhpGP0CZNeaS",
        "outputId": "f2262aef-8f07-4e3d-c028-83ffbcc7caa0"
      },
      "outputs": [
        {
          "output_type": "stream",
          "name": "stdout",
          "text": [
            "\n",
            "1\n",
            "12\n",
            "123\n",
            "1234\n",
            "12345\n",
            "123456\n",
            "1234567\n",
            "12345678\n",
            "123456789\n",
            "1234567890\n"
          ]
        }
      ],
      "source": [
        "for i in range(0,11):\n",
        "  for j in range(0,i):\n",
        "    if j+1 == 10: \n",
        "      print(\"0\", end=\"\")\n",
        "    else:\n",
        "      print(j+1, end=\"\")\n",
        "  print()"
      ]
    },
    {
      "cell_type": "markdown",
      "source": [
        "2.\tWrite a program to print following pattern.\n",
        "\n",
        "\n",
        "\n"
      ],
      "metadata": {
        "id": "_eLBRAo7O3uM"
      }
    },
    {
      "cell_type": "code",
      "execution_count": null,
      "metadata": {
        "colab": {
          "base_uri": "https://localhost:8080/"
        },
        "outputId": "0ff74c35-a6fb-4b7b-ca17-d4b1e8baaa23",
        "id": "e9T7b7ZnSGHw"
      },
      "outputs": [
        {
          "output_type": "stream",
          "name": "stdout",
          "text": [
            "\n",
            "1 \n",
            "1 1 \n",
            "1 1 1 \n",
            "1 1 1 1 \n",
            "1 1 1 1 1 \n",
            "1 1 1 1 1 1 \n",
            "1 1 1 1 1 1 1 \n",
            "1 1 1 1 1 1 1 1 \n",
            "1 1 1 1 1 1 1 1 1 \n",
            "1 1 1 1 1 1 1 1 1 1 \n"
          ]
        }
      ],
      "source": [
        "for i in range(0,11):\n",
        "  for j in range(1,11-i,-1):\n",
        "    print(j, end= '')\n",
        "  for k in range(1,i+1):\n",
        "      print(\"1 \", end = \"\")\n",
        "  print()"
      ]
    },
    {
      "cell_type": "markdown",
      "source": [
        "3.\tWrite a program to print following pattern.\n",
        "\n",
        "\n",
        "\n"
      ],
      "metadata": {
        "id": "MzHn-UkcOq_Z"
      }
    },
    {
      "cell_type": "code",
      "execution_count": null,
      "metadata": {
        "colab": {
          "base_uri": "https://localhost:8080/"
        },
        "outputId": "457fd64b-9df8-41b9-80d2-cdeef896c991",
        "id": "mC8MOjE8Tqez"
      },
      "outputs": [
        {
          "output_type": "stream",
          "name": "stdout",
          "text": [
            "\n",
            "* \n",
            "* * \n",
            "* * * \n",
            "* * * * \n",
            "* * * * * \n",
            "* * * * * * \n",
            "* * * * * * * \n",
            "* * * * * * * * \n",
            "* * * * * * * * * \n",
            "* * * * * * * * * * \n"
          ]
        }
      ],
      "source": [
        "for i in range(0,11):\n",
        "  for j in range(1,11-i,-1):\n",
        "    print(j, end= '')\n",
        "  for k in range(1,i+1):\n",
        "      print(\"* \", end = \"\")\n",
        "  print()\n",
        "    "
      ]
    },
    {
      "cell_type": "markdown",
      "source": [
        "4.\tWrite a program to print following pattern."
      ],
      "metadata": {
        "id": "Mi86s2f-ZBUT"
      }
    },
    {
      "cell_type": "code",
      "execution_count": null,
      "metadata": {
        "colab": {
          "base_uri": "https://localhost:8080/"
        },
        "outputId": "c7cfdfb2-408e-4009-d619-0044a426dc27",
        "id": "ecFWJNJ-X017"
      },
      "outputs": [
        {
          "output_type": "stream",
          "name": "stdout",
          "text": [
            "* * * * * * * * * * \n",
            "* * * * * * * * * \n",
            "* * * * * * * * \n",
            "* * * * * * * \n",
            "* * * * * * \n",
            "* * * * * \n",
            "* * * * \n",
            "* * * \n",
            "* * \n",
            "* \n",
            "\n"
          ]
        }
      ],
      "source": [
        "for i in range(0,11):\n",
        "  for j in range(i-1, 9):\n",
        "    print(\"* \", end= \"\")\n",
        "  print()\n",
        " \n",
        "    "
      ]
    },
    {
      "cell_type": "markdown",
      "source": [
        "5.\tWrite a program to print following pattern."
      ],
      "metadata": {
        "id": "-kfAKq_5dgQL"
      }
    },
    {
      "cell_type": "code",
      "execution_count": null,
      "metadata": {
        "colab": {
          "base_uri": "https://localhost:8080/"
        },
        "outputId": "4b0e8e50-da27-4a62-b40b-93d85e18bf48",
        "id": "GMuvibC3d820"
      },
      "outputs": [
        {
          "output_type": "stream",
          "name": "stdout",
          "text": [
            "* * * * * * * * * * \n",
            "  * * * * * * * * * \n",
            "    * * * * * * * * \n",
            "      * * * * * * * \n",
            "        * * * * * * \n",
            "          * * * * * \n",
            "            * * * * \n",
            "              * * * \n",
            "                * * \n",
            "                  * \n",
            "                    \n"
          ]
        }
      ],
      "source": [
        "for i in range(0,11):\n",
        "  for j in range(0,i):\n",
        "    print(\" \", end= \" \")\n",
        "  for k in range(i+1,11):\n",
        "      print(\"* \", end = \"\")\n",
        "  print()\n",
        "    "
      ]
    },
    {
      "cell_type": "markdown",
      "source": [
        "6.  Write a program to print following pattern."
      ],
      "metadata": {
        "id": "vy_tKpz3ZptX"
      }
    },
    {
      "cell_type": "code",
      "execution_count": null,
      "metadata": {
        "colab": {
          "base_uri": "https://localhost:8080/"
        },
        "outputId": "650b0750-37f8-45db-cfd6-0529c274f8e2",
        "id": "GJ3I_Xf7ZyaY"
      },
      "outputs": [
        {
          "output_type": "stream",
          "name": "stdout",
          "text": [
            "                    \n",
            "                  * \n",
            "                * * \n",
            "              * * * \n",
            "            * * * * \n",
            "          * * * * * \n",
            "        * * * * * * \n",
            "      * * * * * * * \n",
            "    * * * * * * * * \n",
            "  * * * * * * * * * \n",
            "* * * * * * * * * * \n"
          ]
        }
      ],
      "source": [
        "for i in range(0,11):\n",
        "  for j in range(i,10):\n",
        "    print(\" \", end= \" \")\n",
        "  for k in range(0,i):\n",
        "      print(\"* \", end = \"\")\n",
        "  print()\n",
        "    "
      ]
    },
    {
      "cell_type": "markdown",
      "source": [
        "7.\tWrite a program to print following pattern"
      ],
      "metadata": {
        "id": "EN5UG_gnaJuB"
      }
    },
    {
      "cell_type": "code",
      "execution_count": null,
      "metadata": {
        "colab": {
          "base_uri": "https://localhost:8080/"
        },
        "outputId": "5f85b2bf-3906-48a9-cfee-5086cb5314b4",
        "id": "CH0Z32-caPvT"
      },
      "outputs": [
        {
          "output_type": "stream",
          "name": "stdout",
          "text": [
            "          * \n",
            "         * * \n",
            "        * * * \n",
            "       * * * * \n",
            "      * * * * * \n",
            "     * * * * * * \n",
            "    * * * * * * * \n",
            "   * * * * * * * * \n",
            "  * * * * * * * * * \n",
            " * * * * * * * * * * \n"
          ]
        }
      ],
      "source": [
        "for i in range(1,11):\n",
        "  for j in range(i,11):\n",
        "    print(' ', end= '')\n",
        "  for k in range(0, i):\n",
        "      print(\"* \", end = \"\")\n",
        "  print()\n",
        "    "
      ]
    },
    {
      "cell_type": "markdown",
      "source": [
        "8.\tWrite a program to print following pattern."
      ],
      "metadata": {
        "id": "DUdbvD3_bFJa"
      }
    },
    {
      "cell_type": "code",
      "execution_count": null,
      "metadata": {
        "colab": {
          "base_uri": "https://localhost:8080/"
        },
        "outputId": "64959fc1-9787-4f84-a7f5-6b5167f61913",
        "id": "Ky7X_toXaxOr"
      },
      "outputs": [
        {
          "output_type": "stream",
          "name": "stdout",
          "text": [
            " * * * * * * * * * \n",
            "  * * * * * * * * \n",
            "   * * * * * * * \n",
            "    * * * * * * \n",
            "     * * * * * \n",
            "      * * * * \n",
            "       * * * \n",
            "        * * \n",
            "         * \n",
            "          \n"
          ]
        }
      ],
      "source": [
        "for i in range(1,11):\n",
        "  for j in range(0,i):\n",
        "    print(' ', end= '')\n",
        "  for k in range(i+1, 11):\n",
        "      print(\"* \", end = \"\")\n",
        "  print()\n",
        "    "
      ]
    },
    {
      "cell_type": "markdown",
      "source": [
        "\n",
        "9.\tWrite a program to print following pattern.\n"
      ],
      "metadata": {
        "id": "R6TgIJy-bdSB"
      }
    },
    {
      "cell_type": "code",
      "source": [
        "for i in range(0,11,1): \n",
        "  for x in range(0,i):\n",
        "    print(end=\" \")\n",
        "  for j in range(1,11-i,1):\n",
        "    if (j == 10): \n",
        "      print(0, end=\"\")\n",
        "    else:\n",
        "      print(j, end=\"\")\n",
        "  for k in range(j-1, 0, -1):\n",
        "    print(k,end = \"\")\n",
        "  print()"
      ],
      "metadata": {
        "colab": {
          "base_uri": "https://localhost:8080/"
        },
        "id": "Pz_CukD1Sn-Z",
        "outputId": "be816e27-8eb1-4ca7-dc24-200a13ca6af4"
      },
      "execution_count": null,
      "outputs": [
        {
          "output_type": "stream",
          "name": "stdout",
          "text": [
            "1234567890987654321\n",
            " 12345678987654321\n",
            "  123456787654321\n",
            "   1234567654321\n",
            "    12345654321\n",
            "     123454321\n",
            "      1234321\n",
            "       12321\n",
            "        121\n",
            "         1\n",
            "          \n"
          ]
        }
      ]
    },
    {
      "cell_type": "markdown",
      "source": [
        "10.\tWrite a program to print following pattern."
      ],
      "metadata": {
        "id": "pk4-04XweBp_"
      }
    },
    {
      "cell_type": "code",
      "execution_count": null,
      "metadata": {
        "colab": {
          "base_uri": "https://localhost:8080/"
        },
        "outputId": "49b11cb0-5b37-4ea7-d9bb-f450fec78676",
        "id": "gW4KDvP_buoe"
      },
      "outputs": [
        {
          "output_type": "stream",
          "name": "stdout",
          "text": [
            "\n",
            "1\n",
            "12\n",
            "123\n",
            "1234\n",
            "12345\n",
            "123456\n",
            "1234567\n",
            "12345678\n",
            "123456789\n",
            "1234567890\n"
          ]
        }
      ],
      "source": [
        "for i in range(0,11):\n",
        "  for j in range(0,i):\n",
        "    if j+1 == 10: \n",
        "      print(\"0\", end=\"\")\n",
        "    else:\n",
        "      print(j+1, end=\"\")\n",
        "  print()"
      ]
    }
  ]
}