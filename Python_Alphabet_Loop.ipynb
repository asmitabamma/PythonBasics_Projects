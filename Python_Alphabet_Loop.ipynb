{
  "nbformat": 4,
  "nbformat_minor": 0,
  "metadata": {
    "colab": {
      "provenance": [],
      "collapsed_sections": []
    },
    "kernelspec": {
      "name": "python3",
      "display_name": "Python 3"
    },
    "language_info": {
      "name": "python"
    }
  },
  "cells": [
    {
      "cell_type": "code",
      "execution_count": null,
      "metadata": {
        "colab": {
          "base_uri": "https://localhost:8080/"
        },
        "id": "zSGIAnvkrlW_",
        "outputId": "e7ce791f-a59d-44d4-ad6d-d9dc66d28160",
        "cellView": "code"
      },
      "outputs": [
        {
          "output_type": "stream",
          "name": "stdout",
          "text": [
            "  ***  \n",
            " *   * \n",
            " *   * \n",
            " ***** \n",
            " *   * \n",
            " *   * \n",
            " *   * \n",
            "\n"
          ]
        }
      ],
      "source": [
        "\n",
        "result_str=\"\";    \n",
        "for row in range(0,7):    \n",
        "    for column in range(0,7):     \n",
        "        if (((column == 1 or column == 5) and row != 0) or ((row == 0 or row == 3) and (column > 1 and column < 5))):    \n",
        "            result_str=result_str+\"*\"    \n",
        "        else:      \n",
        "            result_str=result_str+\" \"    \n",
        "    result_str=result_str+\"\\n\"    \n",
        "print(result_str);\n"
      ]
    },
    {
      "cell_type": "code",
      "source": [
        "result_str=\"\";    \n",
        "for Row in range(0,7):    \n",
        "    for Col in range(0,7):     \n",
        "        if (Col == 1 or ((Row == 0 or Row == 3 or Row == 6) and (Col < 5 and Col > 1)) or (Col == 5 and (Row != 0 and Row != 3 and Row != 6))) :  \n",
        "            result_str=result_str+\"*\"    \n",
        "        else:      \n",
        "            result_str=result_str+\" \"    \n",
        "    result_str=result_str+\"\\n\"    \n",
        "print(result_str);"
      ],
      "metadata": {
        "colab": {
          "base_uri": "https://localhost:8080/"
        },
        "id": "poK_sOMzroQh",
        "outputId": "9efc2487-7861-4c19-8541-732969e5e092"
      },
      "execution_count": null,
      "outputs": [
        {
          "output_type": "stream",
          "name": "stdout",
          "text": [
            " ****  \n",
            " *   * \n",
            " *   * \n",
            " ****  \n",
            " *   * \n",
            " *   * \n",
            " ****  \n",
            "\n"
          ]
        }
      ]
    },
    {
      "cell_type": "code",
      "source": [
        "result_str=\"\";    \n",
        "for Row in range(0,7):    \n",
        "    for Col in range(0,7):     \n",
        "        if ((Col == 1 and (Row != 0 and Row != 6)) or ((Row == 0 or Row == 6) and (Col > 1 and Col < 5)) or (Col == 5 and (Row == 1 or Row == 5))):  \n",
        "            result_str=result_str+\"*\"    \n",
        "        else:      \n",
        "            result_str=result_str+\" \"    \n",
        "    result_str=result_str+\"\\n\"    \n",
        "print(result_str); "
      ],
      "metadata": {
        "colab": {
          "base_uri": "https://localhost:8080/"
        },
        "id": "tn1_Y0JQroOp",
        "outputId": "f5a75aaf-18f2-45a6-8f0d-acc0ea9df07c"
      },
      "execution_count": null,
      "outputs": [
        {
          "output_type": "stream",
          "name": "stdout",
          "text": [
            "  ***  \n",
            " *   * \n",
            " *     \n",
            " *     \n",
            " *     \n",
            " *   * \n",
            "  ***  \n",
            "\n"
          ]
        }
      ]
    },
    {
      "cell_type": "code",
      "source": [
        "result_str=\"\";    \n",
        "for row in range(0,7):    \n",
        "    for column in range(0,7):     \n",
        "        if (column == 1 or ((row == 0 or row == 6) and (column > 1 and column < 5)) or (column == 5 and row != 0 and row != 6)):  \n",
        "            result_str=result_str+\"*\"    \n",
        "        else:      \n",
        "            result_str=result_str+\" \"    \n",
        "    result_str=result_str+\"\\n\"    \n",
        "print(result_str);"
      ],
      "metadata": {
        "colab": {
          "base_uri": "https://localhost:8080/"
        },
        "id": "6dSoya7qtwrA",
        "outputId": "4cc57bca-6746-40a1-d44c-e6b1be3d40cd"
      },
      "execution_count": null,
      "outputs": [
        {
          "output_type": "stream",
          "name": "stdout",
          "text": [
            " ****  \n",
            " *   * \n",
            " *   * \n",
            " *   * \n",
            " *   * \n",
            " *   * \n",
            " ****  \n",
            "\n"
          ]
        }
      ]
    },
    {
      "cell_type": "code",
      "source": [
        "result_str=\"\";    \n",
        "for row in range(0,7):    \n",
        "    for column in range(0,7):     \n",
        "        if (column == 1 or ((row == 0 or row == 6) and (column > 1 and column < 6)) or (row == 3 and column > 1 and column < 5)):  \n",
        "            result_str=result_str+\"*\"    \n",
        "        else:      \n",
        "            result_str=result_str+\" \"    \n",
        "    result_str=result_str+\"\\n\"    \n",
        "print(result_str);"
      ],
      "metadata": {
        "colab": {
          "base_uri": "https://localhost:8080/"
        },
        "id": "m4CT_fqMroKs",
        "outputId": "de0b3f57-ec96-4541-bcd4-4ee5fb41887a"
      },
      "execution_count": null,
      "outputs": [
        {
          "output_type": "stream",
          "name": "stdout",
          "text": [
            " ***** \n",
            " *     \n",
            " *     \n",
            " ****  \n",
            " *     \n",
            " *     \n",
            " ***** \n",
            "\n"
          ]
        }
      ]
    },
    {
      "cell_type": "code",
      "source": [
        "result_str=\"\";   \n",
        "for row in range(0,7):   \n",
        "   for column in range(0,7):    \n",
        "       if (column == 1 or ((row == 0 ) and (column > 1 and column < 6 )) or (row == 3 and column > 1 and column < 5)): \n",
        "           result_str=result_str+\"*\"   \n",
        "       else:     \n",
        "           result_str=result_str+\" \"   \n",
        "   result_str=result_str+\"\\n\"   \n",
        "print(result_str);"
      ],
      "metadata": {
        "colab": {
          "base_uri": "https://localhost:8080/"
        },
        "id": "GDlBOKI_wFlt",
        "outputId": "518936a1-32dd-42a9-f211-a3b635725137"
      },
      "execution_count": null,
      "outputs": [
        {
          "output_type": "stream",
          "name": "stdout",
          "text": [
            " ***** \n",
            " *     \n",
            " *     \n",
            " ****  \n",
            " *     \n",
            " *     \n",
            " *     \n",
            "\n"
          ]
        }
      ]
    },
    {
      "cell_type": "code",
      "source": [
        "result_str=\"\";    \n",
        "for row in range(0,7):    \n",
        "    for column in range(0,7):     \n",
        "        if ((column == 1 and row != 0 and row != 6) or ((row == 0 or row == 6) and column > 1 and column < 5) or (row == 3 and column > 2 and column < 6) or (column == 5 and row != 0 and row != 2 and row != 6)):  \n",
        "            result_str=result_str+\"*\"    \n",
        "        else:      \n",
        "            result_str=result_str+\" \"    \n",
        "    result_str=result_str+\"\\n\"    \n",
        "print(result_str);"
      ],
      "metadata": {
        "colab": {
          "base_uri": "https://localhost:8080/"
        },
        "id": "Xi4VUqDlroFo",
        "outputId": "3492d016-2de3-4774-be42-527ed74565c2"
      },
      "execution_count": null,
      "outputs": [
        {
          "output_type": "stream",
          "name": "stdout",
          "text": [
            "  ***  \n",
            " *   * \n",
            " *     \n",
            " * *** \n",
            " *   * \n",
            " *   * \n",
            "  ***  \n",
            "\n"
          ]
        }
      ]
    },
    {
      "cell_type": "code",
      "source": [
        "result_str=\"\";    \n",
        "for Row in range(0,7):    \n",
        "    for Col in range(0,7):     \n",
        "        if ((Col == 1 or Col == 5) or (Row == 3 and Col > 1 and Col < 6)):  \n",
        "            result_str=result_str+\"*\"    \n",
        "        else:      \n",
        "            result_str=result_str+\" \"    \n",
        "    result_str=result_str+\"\\n\"    \n",
        "print(result_str);  "
      ],
      "metadata": {
        "colab": {
          "base_uri": "https://localhost:8080/"
        },
        "id": "N8qdz2Y7vZzw",
        "outputId": "09c9eb6d-7cba-458e-dd12-3778a0d734c5"
      },
      "execution_count": null,
      "outputs": [
        {
          "output_type": "stream",
          "name": "stdout",
          "text": [
            " *   * \n",
            " *   * \n",
            " *   * \n",
            " ***** \n",
            " *   * \n",
            " *   * \n",
            " *   * \n",
            "\n"
          ]
        }
      ]
    },
    {
      "cell_type": "code",
      "source": [
        "\n",
        "for row in range(7):\n",
        "   for col in range(5):\n",
        "       if col == 2 or ((row == 0 or row == 6) and col != 2):\n",
        "           print(\"*\",end=\"\")\n",
        "       else:\n",
        "           print(end=\" \")\n",
        "   print()"
      ],
      "metadata": {
        "colab": {
          "base_uri": "https://localhost:8080/"
        },
        "id": "Gt9qrAdrw9EN",
        "outputId": "3c674d34-07aa-42ec-a3e4-ba715d54e8e9"
      },
      "execution_count": null,
      "outputs": [
        {
          "output_type": "stream",
          "name": "stdout",
          "text": [
            "*****\n",
            "  *  \n",
            "  *  \n",
            "  *  \n",
            "  *  \n",
            "  *  \n",
            "*****\n"
          ]
        }
      ]
    },
    {
      "cell_type": "code",
      "source": [
        "result_str=\"\";    \n",
        "for Row in range(0,7):    \n",
        "    for Col in range(0,7):     \n",
        "        if ((Col == 4 and Row != 6) or (Row == 0 and Col > 2 and Col < 6) or (Row == 6 and Col == 3) or (Row == 5 and Col == 2)):  \n",
        "            result_str=result_str+\"*\"    \n",
        "        else:      \n",
        "            result_str=result_str+\" \"    \n",
        "    result_str=result_str+\"\\n\"    \n",
        "print(result_str);  "
      ],
      "metadata": {
        "colab": {
          "base_uri": "https://localhost:8080/"
        },
        "id": "8Ec2JMg4w9Ap",
        "outputId": "442b0b1c-0ee7-48ed-b2ce-65ff214a8d3e"
      },
      "execution_count": null,
      "outputs": [
        {
          "output_type": "stream",
          "name": "stdout",
          "text": [
            "   *** \n",
            "    *  \n",
            "    *  \n",
            "    *  \n",
            "    *  \n",
            "  * *  \n",
            "   *   \n",
            "\n"
          ]
        }
      ]
    }
  ]
}